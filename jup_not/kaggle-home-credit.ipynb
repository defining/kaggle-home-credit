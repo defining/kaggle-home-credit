{
 "cells": [
  {
   "cell_type": "code",
   "execution_count": null,
   "metadata": {},
   "outputs": [],
   "source": [
    "#First: import typical datascience stack\n",
    "\n",
    "#numpy and pandas for data manipulation\n",
    "\n",
    "import numpy as pd\n",
    "import pandas as pd\n",
    "\n",
    "#sklearn preprocessing for dealing with categorical variables  \n",
    "\n",
    "from sklearn.preprocessing import LabelEncoder\n",
    "\n",
    "#File system management\n",
    "\n",
    "import os\n",
    "\n",
    "#Suppress warnings \n",
    "\n",
    "import warning \n",
    "warnings.filterwarnings('ignore')"
   ]
  }
 ],
 "metadata": {
  "kernelspec": {
   "display_name": "Python 3",
   "language": "python",
   "name": "python3"
  },
  "language_info": {
   "codemirror_mode": {
    "name": "ipython",
    "version": 3
   },
   "file_extension": ".py",
   "mimetype": "text/x-python",
   "name": "python",
   "nbconvert_exporter": "python",
   "pygments_lexer": "ipython3",
   "version": "3.7.4"
  }
 },
 "nbformat": 4,
 "nbformat_minor": 2
}
